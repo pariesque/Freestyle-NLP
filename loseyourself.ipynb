{
  "nbformat": 4,
  "nbformat_minor": 0,
  "metadata": {
    "colab": {
      "name": "loseyourself.ipynb",
      "provenance": [],
      "collapsed_sections": []
    },
    "kernelspec": {
      "name": "python3",
      "display_name": "Python 3"
    },
    "language_info": {
      "name": "python"
    }
  },
  "cells": [
    {
      "cell_type": "code",
      "metadata": {
        "id": "t4aC8vmeQ8-K"
      },
      "source": [
        "import tensorflow as tf\n",
        "from tensorflow.keras.preprocessing.sequence import pad_sequences\n",
        "from tensorflow.keras.layers import Embedding, LSTM, Dense, Bidirectional\n",
        "from tensorflow.keras.preprocessing.text import Tokenizer\n",
        "from tensorflow.keras.models import Sequential\n",
        "from tensorflow.keras.optimizers import Adam\n",
        "import numpy as np "
      ],
      "execution_count": 1,
      "outputs": []
    },
    {
      "cell_type": "code",
      "metadata": {
        "id": "uNCAdK8mR0h1"
      },
      "source": [
        "text= open('loseyourself.txt').read()\n",
        "corpus = text.lower().split(\"\\n\")"
      ],
      "execution_count": 6,
      "outputs": []
    },
    {
      "cell_type": "code",
      "metadata": {
        "colab": {
          "base_uri": "https://localhost:8080/"
        },
        "id": "J39_rqyWWOur",
        "outputId": "f27c4a8f-69ca-4c63-f44f-9d3a394ce673"
      },
      "source": [
        "corpus[0:5]"
      ],
      "execution_count": 7,
      "outputs": [
        {
          "output_type": "execute_result",
          "data": {
            "text/plain": [
              "['look',\n",
              " 'if you had',\n",
              " 'one shot',\n",
              " 'or one opportunity',\n",
              " 'to seize everything you ever wanted']"
            ]
          },
          "metadata": {
            "tags": []
          },
          "execution_count": 7
        }
      ]
    },
    {
      "cell_type": "code",
      "metadata": {
        "colab": {
          "base_uri": "https://localhost:8080/"
        },
        "id": "ooPkfn7RWL38",
        "outputId": "b833e382-7bbb-4459-aa38-ca252ac617c2"
      },
      "source": [
        "tokenizer = Tokenizer()\n",
        "tokenizer.fit_on_texts(corpus)\n",
        "total_words = len(tokenizer.word_index) + 1\n",
        "\n",
        "print(tokenizer.word_index)\n",
        "print(total_words)"
      ],
      "execution_count": 8,
      "outputs": [
        {
          "output_type": "stream",
          "text": [
            "{'you': 1, 'the': 2, 'to': 3, 'in': 4, 'it': 5, 'better': 6, 'this': 7, 'he': 8, 'and': 9, 'a': 10, 'only': 11, 'one': 12, \"he's\": 13, 'but': 14, 'i': 15, 'shot': 16, 'go': 17, 'opportunity': 18, 'moment': 19, 'not': 20, 'your': 21, 'is': 22, 'let': 23, 'on': 24, 'goes': 25, 'own': 26, 'get': 27, 'do': 28, 'his': 29, 'so': 30, 'no': 31, 'lose': 32, 'yourself': 33, 'music': 34, 'never': 35, 'miss': 36, 'chance': 37, 'blow': 38, 'comes': 39, 'once': 40, 'lifetime': 41, 'my': 42, 'up': 43, 'that': 44, 'knows': 45, 'these': 46, 'da': 47, 'or': 48, \"don't\": 49, \"it's\": 50, 'me': 51, 'all': 52, 'are': 53, 'whole': 54, \"won't\": 55, 'out': 56, 'back': 57, 'home': 58, 'him': 59, 'for': 60, 'life': 61, 'got': 62, 'capture': 63, 'yo': 64, \"there's\": 65, 'what': 66, 'times': 67, 'over': 68, 'ope': 69, 'there': 70, 'when': 71, 'world': 72, 'as': 73, 'grows': 74, 'harder': 75, 'hoes': 76, 'coast': 77, 'father': 78, 'nose': 79, \"'cause\": 80, 'here': 81, 'cold': 82, 'water': 83, 'next': 84, 'old': 85, 'dum': 86, \"motherfuckin'\": 87, 'off': 88, 'like': 89, 'right': 90, 'by': 91, \"can't\": 92, 'of': 93, 'man': 94, 'look': 95, 'if': 96, 'had': 97, 'seize': 98, 'everything': 99, 'ever': 100, 'wanted': 101, 'would': 102, 'just': 103, 'slip': 104, 'palms': 105, 'sweaty': 106, 'knees': 107, 'weak': 108, 'arms': 109, 'heavy': 110, 'vomit': 111, 'sweater': 112, 'already': 113, \"mom's\": 114, 'spaghetti': 115, 'nervous': 116, 'surface': 117, 'looks': 118, 'calm': 119, 'ready': 120, 'drop': 121, 'bombs': 122, 'keeps': 123, \"forgettin'\": 124, 'wrote': 125, 'down': 126, 'crowd': 127, 'loud': 128, 'opens': 129, 'mouth': 130, 'words': 131, 'come': 132, \"chokin'\": 133, 'how': 134, \"everybody's\": 135, \"jokin'\": 136, 'now': 137, 'clocks': 138, 'run': 139, 'blaow': 140, 'snap': 141, 'reality': 142, 'gravity': 143, 'rabbit': 144, 'choked': 145, 'mad': 146, 'give': 147, 'easy': 148, 'have': 149, \"back's\": 150, 'ropes': 151, 'matter': 152, 'dope': 153, 'broke': 154, 'stagnant': 155, 'mobile': 156, \"that's\": 157, 'lab': 158, 'again': 159, 'rhapsody': 160, 'hope': 161, 'pass': 162, \"soul's\": 163, 'escaping': 164, 'through': 165, 'hole': 166, 'gaping': 167, 'mine': 168, 'taking': 169, 'make': 170, 'king': 171, 'we': 172, 'move': 173, 'toward': 174, 'new': 175, 'order': 176, 'normal': 177, \"borin'\": 178, 'super': 179, \"stardom's\": 180, 'close': 181, 'post': 182, 'mortem': 183, 'hotter': 184, 'blows': 185, 'shows': 186, 'known': 187, 'globetrotter': 188, 'lonely': 189, 'roads': 190, 'god': 191, 'grown': 192, 'farther': 193, 'from': 194, 'barely': 195, 'daughter': 196, 'hold': 197, 'want': 198, \"mo'\": 199, 'product': 200, 'they': 201, 'moved': 202, 'schmo': 203, 'who': 204, 'flows': 205, 'dove': 206, 'sold': 207, 'nada': 208, 'soap': 209, 'opera': 210, 'told': 211, 'unfolds': 212, 'suppose': 213, 'partna': 214, 'beat': 215, 'more': 216, 'games': 217, \"i'ma\": 218, 'change': 219, 'call': 220, 'rage': 221, 'tear': 222, 'roof': 223, 'two': 224, 'dogs': 225, 'caged': 226, 'was': 227, \"playin'\": 228, \"beginnin'\": 229, 'mood': 230, 'changed': 231, 'been': 232, 'chewed': 233, 'spit': 234, 'booed': 235, 'stage': 236, 'kept': 237, \"rhymin'\": 238, 'stepped': 239, 'cypher': 240, 'best': 241, 'believe': 242, \"somebody's\": 243, \"payin'\": 244, 'pied': 245, 'piper': 246, 'pain': 247, 'inside': 248, 'amplified': 249, 'fact': 250, 'with': 251, 'nine': 252, 'five': 253, 'provide': 254, 'type': 255, 'family': 256, 'goddamn': 257, 'food': 258, 'stamps': 259, 'buy': 260, 'diapers': 261, 'its': 262, 'movie': 263, 'mekhi': 264, 'phifer': 265, 'hard': 266, 'getting': 267, 'even': 268, 'tryna': 269, 'feed': 270, 'seed': 271, 'plus': 272, 'teeter': 273, 'totter': 274, 'caught': 275, 'between': 276, \"bein'\": 277, 'prima': 278, 'donna': 279, 'baby': 280, 'mama': 281, 'drama': 282, \"screamin'\": 283, 'her': 284, 'too': 285, 'much': 286, 'wanna': 287, 'stay': 288, 'spot': 289, 'another': 290, 'day': 291, \"monotony's\": 292, 'gotten': 293, 'point': 294, \"i'm\": 295, 'snail': 296, \"i've\": 297, 'formulate': 298, 'plot': 299, 'end': 300, 'jail': 301, 'success': 302, 'option': 303, \"failure's\": 304, 'mom': 305, 'love': 306, \"trailer's\": 307, 'cannot': 308, 'grow': 309, \"salem's\": 310, 'lot': 311, 'feet': 312, 'fail': 313, 'may': 314, 'be': 315, 'can': 316, 'anything': 317, 'set': 318, 'mind': 319}\n",
            "320\n"
          ],
          "name": "stdout"
        }
      ]
    },
    {
      "cell_type": "code",
      "metadata": {
        "id": "8aD8BEm2W2cS"
      },
      "source": [
        "input_sequences = []\n",
        "for line in corpus:\n",
        "\ttoken_list = tokenizer.texts_to_sequences([line])[0]\n",
        "\tfor i in range(1, len(token_list)):\n",
        "\t\tn_gram_sequence = token_list[:i+1]\n",
        "\t\tinput_sequences.append(n_gram_sequence)\n",
        "\n",
        "# pad sequences \n",
        "max_sequence_len = max([len(x) for x in input_sequences])\n",
        "input_sequences = np.array(pad_sequences(input_sequences, maxlen=max_sequence_len, padding='pre'))\n",
        "\n",
        "# create predictors and label\n",
        "xs, labels = input_sequences[:,:-1],input_sequences[:,-1]\n",
        "ys = tf.keras.utils.to_categorical(labels, num_classes=total_words)"
      ],
      "execution_count": 9,
      "outputs": []
    },
    {
      "cell_type": "code",
      "metadata": {
        "colab": {
          "base_uri": "https://localhost:8080/"
        },
        "id": "lbWYK3rUW3ri",
        "outputId": "e72a4afb-fe17-4c77-8d14-3393ee0936f7"
      },
      "source": [
        "model = Sequential()\n",
        "model.add(Embedding(total_words, 100, input_length=max_sequence_len-1))\n",
        "model.add(Bidirectional(LSTM(150)))\n",
        "model.add(Dense(total_words, activation='softmax'))\n",
        "adam = Adam(lr=0.01)\n",
        "model.compile(loss='categorical_crossentropy', optimizer=adam, metrics=['accuracy'])\n",
        "#earlystop = EarlyStopping(monitor='val_loss', min_delta=0, patience=5, verbose=0, mode='auto')\n",
        "history = model.fit(xs, ys, epochs=50, verbose=1)\n",
        "#print model.summary()\n",
        "print(model)"
      ],
      "execution_count": 10,
      "outputs": [
        {
          "output_type": "stream",
          "text": [
            "/usr/local/lib/python3.7/dist-packages/tensorflow/python/keras/optimizer_v2/optimizer_v2.py:375: UserWarning: The `lr` argument is deprecated, use `learning_rate` instead.\n",
            "  \"The `lr` argument is deprecated, use `learning_rate` instead.\")\n"
          ],
          "name": "stderr"
        },
        {
          "output_type": "stream",
          "text": [
            "Epoch 1/50\n",
            "22/22 [==============================] - 5s 59ms/step - loss: 5.5488 - accuracy: 0.0298\n",
            "Epoch 2/50\n",
            "22/22 [==============================] - 1s 57ms/step - loss: 4.5852 - accuracy: 0.1222\n",
            "Epoch 3/50\n",
            "22/22 [==============================] - 1s 58ms/step - loss: 3.8005 - accuracy: 0.2514\n",
            "Epoch 4/50\n",
            "22/22 [==============================] - 1s 57ms/step - loss: 3.0434 - accuracy: 0.3210\n",
            "Epoch 5/50\n",
            "22/22 [==============================] - 1s 56ms/step - loss: 2.2150 - accuracy: 0.4403\n",
            "Epoch 6/50\n",
            "22/22 [==============================] - 1s 57ms/step - loss: 1.4903 - accuracy: 0.6080\n",
            "Epoch 7/50\n",
            "22/22 [==============================] - 1s 57ms/step - loss: 0.8945 - accuracy: 0.7614\n",
            "Epoch 8/50\n",
            "22/22 [==============================] - 1s 56ms/step - loss: 0.5102 - accuracy: 0.8494\n",
            "Epoch 9/50\n",
            "22/22 [==============================] - 1s 55ms/step - loss: 0.2967 - accuracy: 0.9176\n",
            "Epoch 10/50\n",
            "22/22 [==============================] - 1s 55ms/step - loss: 0.1899 - accuracy: 0.9361\n",
            "Epoch 11/50\n",
            "22/22 [==============================] - 1s 57ms/step - loss: 0.1823 - accuracy: 0.9389\n",
            "Epoch 12/50\n",
            "22/22 [==============================] - 1s 58ms/step - loss: 0.1525 - accuracy: 0.9503\n",
            "Epoch 13/50\n",
            "22/22 [==============================] - 1s 56ms/step - loss: 0.1404 - accuracy: 0.9389\n",
            "Epoch 14/50\n",
            "22/22 [==============================] - 1s 56ms/step - loss: 0.1364 - accuracy: 0.9489\n",
            "Epoch 15/50\n",
            "22/22 [==============================] - 1s 54ms/step - loss: 0.1379 - accuracy: 0.9432\n",
            "Epoch 16/50\n",
            "22/22 [==============================] - 1s 56ms/step - loss: 0.1157 - accuracy: 0.9489\n",
            "Epoch 17/50\n",
            "22/22 [==============================] - 1s 56ms/step - loss: 0.1180 - accuracy: 0.9503\n",
            "Epoch 18/50\n",
            "22/22 [==============================] - 1s 58ms/step - loss: 0.1275 - accuracy: 0.9432\n",
            "Epoch 19/50\n",
            "22/22 [==============================] - 1s 56ms/step - loss: 0.1147 - accuracy: 0.9460\n",
            "Epoch 20/50\n",
            "22/22 [==============================] - 1s 58ms/step - loss: 0.1104 - accuracy: 0.9531\n",
            "Epoch 21/50\n",
            "22/22 [==============================] - 1s 58ms/step - loss: 0.1187 - accuracy: 0.9432\n",
            "Epoch 22/50\n",
            "22/22 [==============================] - 1s 56ms/step - loss: 0.1154 - accuracy: 0.9503\n",
            "Epoch 23/50\n",
            "22/22 [==============================] - 1s 56ms/step - loss: 0.1114 - accuracy: 0.9489\n",
            "Epoch 24/50\n",
            "22/22 [==============================] - 1s 58ms/step - loss: 0.1091 - accuracy: 0.9460\n",
            "Epoch 25/50\n",
            "22/22 [==============================] - 1s 57ms/step - loss: 0.1151 - accuracy: 0.9375\n",
            "Epoch 26/50\n",
            "22/22 [==============================] - 1s 57ms/step - loss: 0.1176 - accuracy: 0.9432\n",
            "Epoch 27/50\n",
            "22/22 [==============================] - 1s 58ms/step - loss: 0.1057 - accuracy: 0.9460\n",
            "Epoch 28/50\n",
            "22/22 [==============================] - 1s 58ms/step - loss: 0.1082 - accuracy: 0.9403\n",
            "Epoch 29/50\n",
            "22/22 [==============================] - 1s 57ms/step - loss: 0.1065 - accuracy: 0.9418\n",
            "Epoch 30/50\n",
            "22/22 [==============================] - 1s 56ms/step - loss: 0.1017 - accuracy: 0.9474\n",
            "Epoch 31/50\n",
            "22/22 [==============================] - 1s 58ms/step - loss: 0.1094 - accuracy: 0.9503\n",
            "Epoch 32/50\n",
            "22/22 [==============================] - 1s 58ms/step - loss: 0.1023 - accuracy: 0.9517\n",
            "Epoch 33/50\n",
            "22/22 [==============================] - 1s 56ms/step - loss: 0.1060 - accuracy: 0.9446\n",
            "Epoch 34/50\n",
            "22/22 [==============================] - 1s 57ms/step - loss: 0.1153 - accuracy: 0.9517\n",
            "Epoch 35/50\n",
            "22/22 [==============================] - 1s 58ms/step - loss: 0.1123 - accuracy: 0.9403\n",
            "Epoch 36/50\n",
            "22/22 [==============================] - 1s 56ms/step - loss: 0.1026 - accuracy: 0.9489\n",
            "Epoch 37/50\n",
            "22/22 [==============================] - 1s 58ms/step - loss: 0.1047 - accuracy: 0.9517\n",
            "Epoch 38/50\n",
            "22/22 [==============================] - 1s 57ms/step - loss: 0.1052 - accuracy: 0.9432\n",
            "Epoch 39/50\n",
            "22/22 [==============================] - 1s 56ms/step - loss: 0.1048 - accuracy: 0.9446\n",
            "Epoch 40/50\n",
            "22/22 [==============================] - 1s 57ms/step - loss: 0.1013 - accuracy: 0.9474\n",
            "Epoch 41/50\n",
            "22/22 [==============================] - 1s 57ms/step - loss: 0.1027 - accuracy: 0.9460\n",
            "Epoch 42/50\n",
            "22/22 [==============================] - 1s 56ms/step - loss: 0.0978 - accuracy: 0.9503\n",
            "Epoch 43/50\n",
            "22/22 [==============================] - 1s 56ms/step - loss: 0.1024 - accuracy: 0.9474\n",
            "Epoch 44/50\n",
            "22/22 [==============================] - 1s 55ms/step - loss: 0.0968 - accuracy: 0.9503\n",
            "Epoch 45/50\n",
            "22/22 [==============================] - 1s 57ms/step - loss: 0.1033 - accuracy: 0.9460\n",
            "Epoch 46/50\n",
            "22/22 [==============================] - 1s 57ms/step - loss: 0.1027 - accuracy: 0.9432\n",
            "Epoch 47/50\n",
            "22/22 [==============================] - 1s 57ms/step - loss: 0.0984 - accuracy: 0.9474\n",
            "Epoch 48/50\n",
            "22/22 [==============================] - 1s 57ms/step - loss: 0.0966 - accuracy: 0.9517\n",
            "Epoch 49/50\n",
            "22/22 [==============================] - 1s 57ms/step - loss: 0.0992 - accuracy: 0.9503\n",
            "Epoch 50/50\n",
            "22/22 [==============================] - 1s 57ms/step - loss: 0.1025 - accuracy: 0.9389\n",
            "<tensorflow.python.keras.engine.sequential.Sequential object at 0x7faececa8890>\n"
          ],
          "name": "stdout"
        }
      ]
    },
    {
      "cell_type": "code",
      "metadata": {
        "id": "S4eJZ28cXixR"
      },
      "source": [
        "import matplotlib.pyplot as plt\n",
        "\n",
        "def plot_graphs(history, string):\n",
        "  plt.plot(history.history[string])\n",
        "  plt.xlabel(\"Epochs\")\n",
        "  plt.ylabel(string)\n",
        "  plt.show()"
      ],
      "execution_count": 11,
      "outputs": []
    },
    {
      "cell_type": "code",
      "metadata": {
        "colab": {
          "base_uri": "https://localhost:8080/",
          "height": 279
        },
        "id": "nDxxFaVoXlOx",
        "outputId": "245f71cb-bc3f-4258-c843-275a5d88e2fd"
      },
      "source": [
        "plot_graphs(history, 'accuracy')"
      ],
      "execution_count": 12,
      "outputs": [
        {
          "output_type": "display_data",
          "data": {
            "image/png": "[encoded data removed]",
            "text/plain": [
              "<Figure size 432x288 with 1 Axes>"
            ]
          },
          "metadata": {
            "tags": [],
            "needs_background": "light"
          }
        }
      ]
    },
    {
      "cell_type": "code",
      "metadata": {
        "colab": {
          "base_uri": "https://localhost:8080/"
        },
        "id": "vb5OURIaXoIW",
        "outputId": "897396e6-cbc7-4c44-9cd5-7e5546ff567e"
      },
      "source": [
        "seed_text = \"this moment you own it\"\n",
        "next_words = 10\n",
        "  \n",
        "for _ in range(next_words):\n",
        "\ttoken_list = tokenizer.texts_to_sequences([seed_text])[0]\n",
        "\ttoken_list = pad_sequences([token_list], maxlen=max_sequence_len-1, padding='pre')\n",
        "\tpredicted = model.predict_classes(token_list, verbose=0)\n",
        "\toutput_word = \"\"\n",
        "\tfor word, index in tokenizer.word_index.items():\n",
        "\t\tif index == predicted:\n",
        "\t\t\toutput_word = word\n",
        "\t\t\tbreak\n",
        "\tseed_text += \" \" + output_word\n",
        "print(seed_text)"
      ],
      "execution_count": 29,
      "outputs": [
        {
          "output_type": "stream",
          "text": [
            "/usr/local/lib/python3.7/dist-packages/tensorflow/python/keras/engine/sequential.py:455: UserWarning: `model.predict_classes()` is deprecated and will be removed after 2021-01-01. Please use instead:* `np.argmax(model.predict(x), axis=-1)`,   if your model does multi-class classification   (e.g. if it uses a `softmax` last-layer activation).* `(model.predict(x) > 0.5).astype(\"int32\")`,   if your model does binary classification   (e.g. if it uses a `sigmoid` last-layer activation).\n",
            "  warnings.warn('`model.predict_classes()` is deprecated and '\n"
          ],
          "name": "stderr"
        },
        {
          "output_type": "stream",
          "text": [
            "this moment you own it you better never let it go go go i go\n"
          ],
          "name": "stdout"
        }
      ]
    }
  ]
}